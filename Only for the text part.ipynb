{
 "cells": [
  {
   "cell_type": "code",
   "execution_count": 1,
   "id": "be6ad2aa",
   "metadata": {},
   "outputs": [
    {
     "name": "stderr",
     "output_type": "stream",
     "text": [
      "[nltk_data] Downloading package punkt to\n",
      "[nltk_data]     C:\\Users\\beatr\\AppData\\Roaming\\nltk_data...\n",
      "[nltk_data]   Package punkt is already up-to-date!\n",
      "[nltk_data] Downloading package wordnet to\n",
      "[nltk_data]     C:\\Users\\beatr\\AppData\\Roaming\\nltk_data...\n",
      "[nltk_data]   Package wordnet is already up-to-date!\n",
      "[nltk_data] Downloading package stopwords to\n",
      "[nltk_data]     C:\\Users\\beatr\\AppData\\Roaming\\nltk_data...\n",
      "[nltk_data]   Package stopwords is already up-to-date!\n"
     ]
    }
   ],
   "source": [
    "#Import libraries:\n",
    "import pandas as pd\n",
    "\n",
    "import re\n",
    "\n",
    "import nltk\n",
    "nltk.download('punkt')\n",
    "nltk.download('wordnet') # wordnet is the most well known lemmatizer for english\n",
    "nltk.download('stopwords')\n",
    "\n",
    "from nltk.stem import PorterStemmer\n",
    "from nltk.stem import WordNetLemmatizer\n",
    "from nltk.corpus import wordnet\n",
    "from nltk.corpus import stopwords\n",
    "from sklearn.feature_extraction.text import CountVectorizer\n",
    "from sklearn.feature_extraction.text import TfidfVectorizer\n",
    "from nltk.probability import FreqDist\n",
    "\n",
    "import pickle"
   ]
  },
  {
   "cell_type": "code",
   "execution_count": 2,
   "id": "e703972a",
   "metadata": {},
   "outputs": [],
   "source": [
    "#Upload data:\n",
    "\n",
    "df = pd.read_csv(\"C:\\\\Users\\\\beatr\\\\Documents\\\\Beatriz\\\\Ironhack\\\\Projects\\\\NLP_DisneylandReviews\\df.csv\")\n",
    "df.drop([\"Unnamed: 0\"], axis = 1, inplace = True)"
   ]
  },
  {
   "cell_type": "code",
   "execution_count": 3,
   "id": "a45c4b8f",
   "metadata": {},
   "outputs": [],
   "source": [
    "#Function to treat the review\n",
    "\n",
    "variable = stopwords.words(\"english\")\n",
    "\n",
    "def clean_review(review):\n",
    "    \n",
    "    review_clean = review.lower()\n",
    "   \n",
    "    review_clean = re.sub(\"http:\\S+\", \" \", review_clean)\n",
    "    \n",
    "    review_clean = re.findall(\"[a-z]+\", review_clean)\n",
    "    \n",
    "    ps = PorterStemmer()\n",
    "    stemmed = [ps.stem(w) for w in nltk.word_tokenize(' '.join(review_clean))]\n",
    "    \n",
    "    lemmatizer = WordNetLemmatizer() \n",
    "    lemmatized = [lemmatizer.lemmatize(word) for word in stemmed]\n",
    "    \n",
    "    row = [word for word in lemmatized if not word in variable]\n",
    "   \n",
    "    return \" \".join(row) "
   ]
  },
  {
   "cell_type": "code",
   "execution_count": 4,
   "id": "6509c348",
   "metadata": {},
   "outputs": [
    {
     "name": "stdout",
     "output_type": "stream",
     "text": [
      "Can you give us your review?it was super cool i loved it\n"
     ]
    }
   ],
   "source": [
    "dataframe_newreview = pd.DataFrame(columns = ['Review_Text'])\n",
    "\n",
    "dataframe_newreview['Review_Text'] = [input(\"Can you give us your review?\")]"
   ]
  },
  {
   "cell_type": "code",
   "execution_count": 5,
   "id": "58a892d0",
   "metadata": {},
   "outputs": [
    {
     "data": {
      "text/html": [
       "<div>\n",
       "<style scoped>\n",
       "    .dataframe tbody tr th:only-of-type {\n",
       "        vertical-align: middle;\n",
       "    }\n",
       "\n",
       "    .dataframe tbody tr th {\n",
       "        vertical-align: top;\n",
       "    }\n",
       "\n",
       "    .dataframe thead th {\n",
       "        text-align: right;\n",
       "    }\n",
       "</style>\n",
       "<table border=\"1\" class=\"dataframe\">\n",
       "  <thead>\n",
       "    <tr style=\"text-align: right;\">\n",
       "      <th></th>\n",
       "      <th>Reviews_clean</th>\n",
       "    </tr>\n",
       "  </thead>\n",
       "  <tbody>\n",
       "    <tr>\n",
       "      <th>0</th>\n",
       "      <td>wa super cool love</td>\n",
       "    </tr>\n",
       "  </tbody>\n",
       "</table>\n",
       "</div>"
      ],
      "text/plain": [
       "        Reviews_clean\n",
       "0  wa super cool love"
      ]
     },
     "execution_count": 5,
     "metadata": {},
     "output_type": "execute_result"
    }
   ],
   "source": [
    "dataframe_newreview[\"Reviews_clean\"] = dataframe_newreview['Review_Text'].apply(clean_review)\n",
    "\n",
    "dataframe_newreview.drop([\"Review_Text\"], axis = 1)"
   ]
  },
  {
   "cell_type": "code",
   "execution_count": 6,
   "id": "7d4a03c5",
   "metadata": {},
   "outputs": [],
   "source": [
    "# load the model from disk\n",
    "\n",
    "filename = 'Model_for_review.sav'\n",
    "model = pickle.load(open(filename, 'rb'))"
   ]
  },
  {
   "cell_type": "code",
   "execution_count": 7,
   "id": "5aebb111",
   "metadata": {},
   "outputs": [
    {
     "data": {
      "text/plain": [
       "array([5], dtype=int64)"
      ]
     },
     "execution_count": 7,
     "metadata": {},
     "output_type": "execute_result"
    }
   ],
   "source": [
    "#get the columns and one row of our bag of words\n",
    "\n",
    "new_review = df.iloc[0]\n",
    "new_review.values[:] = 0\n",
    "\n",
    "#from our new review split and add as a list\n",
    "list_new_review = dataframe_newreview[\"Reviews_clean\"].str.split(\" \")\n",
    "\n",
    "#interate over the new review to get the frequency of each word\n",
    "for word in list_new_review[0]:\n",
    "    if word in list(new_review.index):\n",
    "        new_review[word] = +1\n",
    "\n",
    "#transform the new review into a dataframe and reset the index\n",
    "new_review = pd.DataFrame(new_review).T\n",
    "#new_review.reset_index()\n",
    "\n",
    "\n",
    "#Predict the review using our model\n",
    "print(model.predict(new_review))"
   ]
  },
  {
   "cell_type": "code",
   "execution_count": null,
   "id": "634c3253",
   "metadata": {},
   "outputs": [],
   "source": []
  }
 ],
 "metadata": {
  "kernelspec": {
   "display_name": "Python 3 (ipykernel)",
   "language": "python",
   "name": "python3"
  },
  "language_info": {
   "codemirror_mode": {
    "name": "ipython",
    "version": 3
   },
   "file_extension": ".py",
   "mimetype": "text/x-python",
   "name": "python",
   "nbconvert_exporter": "python",
   "pygments_lexer": "ipython3",
   "version": "3.9.6"
  }
 },
 "nbformat": 4,
 "nbformat_minor": 5
}
